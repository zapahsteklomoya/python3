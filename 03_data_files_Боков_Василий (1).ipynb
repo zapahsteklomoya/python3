{
  "cells": [
    {
      "cell_type": "markdown",
      "source": [
        "# Форматы данных (1)"
      ],
      "metadata": {
        "id": "ocuws-SVMljE"
      }
    },
    {
      "cell_type": "markdown",
      "source": [
        "Материалы:\n",
        "* Макрушин С.В. \"Лекция 4: Форматы данных\"\n",
        "* https://docs.python.org/3/library/json.html\n",
        "* https://docs.python.org/3/library/pickle.html\n",
        "* https://www.crummy.com/software/BeautifulSoup/bs4/doc.ru/bs4ru.html\n",
        "* Уэс Маккини. Python и анализ данных"
      ],
      "metadata": {
        "id": "hBcbKVizMljF"
      }
    },
    {
      "cell_type": "markdown",
      "source": [
        "## Задачи для совместного разбора"
      ],
      "metadata": {
        "id": "cXa-d0DJMljF"
      }
    },
    {
      "cell_type": "markdown",
      "source": [
        "1. Вывести все адреса электронной почты, содержащиеся в адресной книге `addres-book.json`"
      ],
      "metadata": {
        "id": "xcn8nQ0UMljF"
      }
    },
    {
      "cell_type": "code",
      "execution_count": null,
      "source": [
        "import json\n",
        "\n",
        "with open(\"./data/addres-book.json\", \"r\", encoding=\"utf-8\") as f:\n",
        "    data = json.load(f)\n",
        "\n",
        "for i, j in enumerate(data):\n",
        "    print(data[i][\"email\"])\n"
      ],
      "outputs": [
        {
          "output_type": "stream",
          "name": "stdout",
          "text": [
            "faina@mail.ru\n",
            "robert@mail.ru\n"
          ]
        }
      ],
      "metadata": {
        "id": "ZtZLh70LMljF",
        "outputId": "1db5dce3-d03b-41e3-a31d-5ad1cc07e74e"
      }
    },
    {
      "cell_type": "markdown",
      "source": [
        "2. Вывести телефоны, содержащиеся в адресной книге `addres-book.json`"
      ],
      "metadata": {
        "id": "X2nw__mbMljG"
      }
    },
    {
      "cell_type": "code",
      "execution_count": null,
      "source": [
        "for i in range(len(data)):\n",
        "    # for _, j in enumerate(i):\n",
        "    # print(i)\n",
        "    for j in data[i][\"phones\"]:\n",
        "        print(j[\"phone\"])"
      ],
      "outputs": [
        {
          "output_type": "stream",
          "name": "stdout",
          "text": [
            "232-19-55\n",
            "+7 (916) 232-19-55\n",
            "111-19-55\n",
            "+7 (916) 445-19-55\n"
          ]
        }
      ],
      "metadata": {
        "id": "EoKtAwLhMljG",
        "outputId": "1ae298a2-239c-4e3d-b5df-f0f33be532aa"
      }
    },
    {
      "cell_type": "markdown",
      "source": [
        "3. По данным из файла `addres-book-q.xml` сформировать список словарей с телефонами каждого из людей. "
      ],
      "metadata": {
        "id": "2FiFXrpAMljG"
      }
    },
    {
      "cell_type": "code",
      "execution_count": null,
      "source": [
        "from bs4 import BeautifulSoup\n",
        "\n",
        "with open(\"./data/addres-book-q.xml\", \"r\", encoding=\"utf8\") as f:\n",
        "    data = BeautifulSoup(f)\n",
        "\n",
        "l = []\n",
        "for adr in data.find_all(\"address\"):\n",
        "    for name in adr.find_all(\"name\"):\n",
        "        na = name.getText()\n",
        "    ph_l = []\n",
        "    for phone in adr.find_all(\"phone\"):\n",
        "        \n",
        "        ph_l.append(phone.text)\n",
        "\n",
        "    l.append({na:ph_l})\n",
        "        \n",
        "print(l)"
      ],
      "outputs": [
        {
          "output_type": "stream",
          "name": "stdout",
          "text": [
            "[{'Aicha Barki': ['+ (213) 6150 4015', '+ (213) 2173 5247']}, {'Francisco Domingos': ['+ (244-2) 325 023', '+ (244-2) 325 023']}, {'Maria Luisa': ['+ (244) 4232 2836']}, {'Abraao Chanda': ['+ (244-2) 325 023', '+ (244-2) 325 023']}, {'Beatriz Busaniche': ['+ (54-11) 4784 1159']}, {'Francesca Beddie': ['+ (61-2) 6274 9500', '+ (61-2) 6274 9513']}, {'Graham John Smith': ['+ (61-3) 9807 4702']}]\n"
          ]
        }
      ],
      "metadata": {
        "id": "v33_gjtZMljG",
        "outputId": "319f69a2-0a5b-4fef-f4f2-67065d032336"
      }
    },
    {
      "cell_type": "markdown",
      "source": [
        "## Лабораторная работа №4"
      ],
      "metadata": {
        "id": "XPARkaPOMljG"
      }
    },
    {
      "cell_type": "markdown",
      "source": [
        "### JSON"
      ],
      "metadata": {
        "id": "TFGOHQG0MljG"
      }
    },
    {
      "cell_type": "code",
      "execution_count": null,
      "source": [
        "import json\n",
        "import pickle\n",
        "\n",
        "with open(\"./data/addres-book.json\", \"r\", encoding=\"utf-8\") as f:\n",
        "    data = json.load(f)\n",
        "\n",
        "\n",
        "# with open(\"./data/addres-book.json\", \"r\", encoding=\"utf-8\") as f:\n",
        "    # pickle.dump(data, f) # запись \n",
        "    # data= pickle.load(data, f) # выгрузка из файла"
      ],
      "outputs": [],
      "metadata": {
        "id": "WAI3oXpKMljG"
      }
    },
    {
      "cell_type": "markdown",
      "source": [
        "1.1 Считайте файл `contributors_sample.json`. Воспользовавшись модулем `json`, преобразуйте содержимое файла в соответствующие объекты python. Выведите на экран информацию о первых 3 пользователях."
      ],
      "metadata": {
        "id": "db2Xeb4OMljG"
      }
    },
    {
      "cell_type": "code",
      "execution_count": null,
      "source": [
        "class User:\n",
        "\n",
        "    def __init__(self, username, name, sex, address, mail, jobs, id):\n",
        "        self.username = username\n",
        "        self.name = name\n",
        "        self.sex = sex\n",
        "        self.address = address\n",
        "        self.mail = mail\n",
        "        self.jobs = jobs\n",
        "        self.id = id\n",
        "\n",
        "    def __str__(self) -> str:\n",
        "        jobs_str = \", \".join(self.jobs)\n",
        "        return f\"\\nId: {self.id}\\nUsername: {self.username}\\nName: {self.name}\\nSex: {self.sex}\\naddress: {self.address}\\nmail: {self.mail}\\njobs: {jobs_str}\\n\\n#########################\"\n",
        "\n",
        "\n",
        "with open(\"./data/contributors_sample.json\", \"r\", encoding=\"utf8\") as f:\n",
        "    data = json.load(f)\n",
        "\n",
        "user_l = []\n",
        "for i in data:\n",
        "    user_l.append(User(**i))\n",
        "\n",
        "for usr in user_l[:3]:\n",
        "    print(usr)\n"
      ],
      "outputs": [
        {
          "output_type": "stream",
          "name": "stdout",
          "text": [
            "\n",
            "Id: 35193\n",
            "Username: uhebert\n",
            "Name: Lindsey Nguyen\n",
            "Sex: F\n",
            "address: 01261 Cameron Spring\n",
            "Taylorfurt, AK 97791\n",
            "mail: jsalazar@gmail.com\n",
            "jobs: Energy engineer, Engineer, site, Environmental health practitioner, Biomedical scientist, Jewellery designer\n",
            "\n",
            "#########################\n",
            "\n",
            "Id: 91970\n",
            "Username: vickitaylor\n",
            "Name: Cheryl Lewis\n",
            "Sex: F\n",
            "address: 66992 Welch Brooks\n",
            "Marshallshire, ID 56004\n",
            "mail: bhudson@gmail.com\n",
            "jobs: Music therapist, Volunteer coordinator, Designer, interior/spatial\n",
            "\n",
            "#########################\n",
            "\n",
            "Id: 1848091\n",
            "Username: sheilaadams\n",
            "Name: Julia Allen\n",
            "Sex: F\n",
            "address: Unit 1632 Box 2971\n",
            "DPO AE 23297\n",
            "mail: darren44@yahoo.com\n",
            "jobs: Management consultant, Engineer, structural, Lecturer, higher education, Theatre manager, Designer, textile\n",
            "\n",
            "#########################\n"
          ]
        }
      ],
      "metadata": {
        "id": "ZqZk2lt1MljH",
        "outputId": "cbab134e-40b1-46db-be50-7a85be83879d"
      }
    },
    {
      "cell_type": "markdown",
      "source": [
        "1.2 Выведите уникальные почтовые домены, содержащиеся в почтовых адресах людей"
      ],
      "metadata": {
        "id": "TXcD1hB0MljH"
      }
    },
    {
      "cell_type": "code",
      "execution_count": 1,
      "source": [
        "list(set([(usr.mail.split(\"@\")[1]) for usr in user_l]))"
      ],
      "outputs": [
        {
          "output_type": "error",
          "ename": "NameError",
          "evalue": "ignored",
          "traceback": [
            "\u001b[0;31m---------------------------------------------------------------------------\u001b[0m",
            "\u001b[0;31mNameError\u001b[0m                                 Traceback (most recent call last)",
            "\u001b[0;32m<ipython-input-1-826b078427d5>\u001b[0m in \u001b[0;36m<cell line: 1>\u001b[0;34m()\u001b[0m\n\u001b[0;32m----> 1\u001b[0;31m \u001b[0mlist\u001b[0m\u001b[0;34m(\u001b[0m\u001b[0mset\u001b[0m\u001b[0;34m(\u001b[0m\u001b[0;34m[\u001b[0m\u001b[0;34m(\u001b[0m\u001b[0musr\u001b[0m\u001b[0;34m.\u001b[0m\u001b[0mmail\u001b[0m\u001b[0;34m.\u001b[0m\u001b[0msplit\u001b[0m\u001b[0;34m(\u001b[0m\u001b[0;34m\"@\"\u001b[0m\u001b[0;34m)\u001b[0m\u001b[0;34m[\u001b[0m\u001b[0;36m1\u001b[0m\u001b[0;34m]\u001b[0m\u001b[0;34m)\u001b[0m \u001b[0;32mfor\u001b[0m \u001b[0musr\u001b[0m \u001b[0;32min\u001b[0m \u001b[0muser_l\u001b[0m\u001b[0;34m]\u001b[0m\u001b[0;34m)\u001b[0m\u001b[0;34m)\u001b[0m\u001b[0;34m\u001b[0m\u001b[0;34m\u001b[0m\u001b[0m\n\u001b[0m",
            "\u001b[0;31mNameError\u001b[0m: name 'user_l' is not defined"
          ]
        }
      ],
      "metadata": {
        "colab": {
          "base_uri": "https://localhost:8080/",
          "height": 169
        },
        "id": "9xVJ2Ge3MljH",
        "outputId": "0ff2d397-724e-49fc-c3a5-61fd232b627b"
      }
    },
    {
      "cell_type": "markdown",
      "source": [
        "1.3 Напишите функцию, которая по `username` ищет человека и выводит информацию о нем. Если пользователь с заданным `username` отсутствует, возбудите исключение `ValueError`"
      ],
      "metadata": {
        "id": "XmYlEJjMMljH"
      }
    },
    {
      "cell_type": "code",
      "execution_count": null,
      "source": [
        "\n",
        "def find_by_username(usr_name):\n",
        "    c = 0\n",
        "    for i in data:\n",
        "        if usr_name == i[\"username\"]:\n",
        "            print(i[\"username\"])\n",
        "            c += 1\n",
        "    if c == 0:\n",
        "        print(\"user not found\")\n",
        "\n",
        "\n",
        "find_by_username(\"uheber\")\n"
      ],
      "outputs": [
        {
          "output_type": "stream",
          "name": "stdout",
          "text": [
            "user not found\n"
          ]
        }
      ],
      "metadata": {
        "id": "5kuTTrI1MljH",
        "outputId": "37fb2783-4de7-4c18-f719-0ca69fc50c06"
      }
    },
    {
      "cell_type": "markdown",
      "source": [
        "1.4 Посчитайте, сколько мужчин и женщин присутсвует в этом наборе данных."
      ],
      "metadata": {
        "id": "bZfAt3MiMljH"
      }
    },
    {
      "cell_type": "code",
      "execution_count": null,
      "source": [
        "def male_female():\n",
        "    m, f = 0, 0\n",
        "    for i in data:\n",
        "        if i[\"sex\"] == \"M\":\n",
        "            m += 1\n",
        "        else:\n",
        "            f += 1\n",
        "    return f\"мужчин: {m}, женщин: {f}\"\n",
        "\n",
        "male_female()"
      ],
      "outputs": [
        {
          "output_type": "execute_result",
          "data": {
            "text/plain": [
              "'мужчин: 2064, женщин: 2136'"
            ]
          },
          "metadata": {},
          "execution_count": 81
        }
      ],
      "metadata": {
        "id": "4euRAiuIMljH",
        "outputId": "fada7a07-e2ec-436b-fc7a-42a43f1a335c"
      }
    },
    {
      "cell_type": "markdown",
      "source": [
        "1.5 Создайте `pd.DataFrame` `contributors`, имеющий столбцы `id`, `username` и `sex`."
      ],
      "metadata": {
        "id": "iTE2Q5O0MljH"
      }
    },
    {
      "cell_type": "code",
      "execution_count": null,
      "source": [
        "import pandas as pd\n",
        "    \n",
        "contributors = pd.read_json(\"./data/contributors_sample.json\").drop([\"name\", \"address\", \"mail\", \"jobs\"], axis=1)\n",
        "col = contributors.pop(\"id\")\n",
        "contributors.insert(0, col.name, col)\n",
        "print(contributors)\n"
      ],
      "outputs": [
        {
          "output_type": "stream",
          "name": "stdout",
          "text": [
            "           id       username sex\n",
            "0       35193        uhebert   F\n",
            "1       91970    vickitaylor   F\n",
            "2     1848091    sheilaadams   F\n",
            "3       50969       nicole82   F\n",
            "4      676820         jean67   M\n",
            "...       ...            ...  ..\n",
            "4195   423555  stevenspencer   F\n",
            "4196    35251      rwilliams   M\n",
            "4197   135887      lmartinez   F\n",
            "4198   212714     brendahill   M\n",
            "4199   344321       mistyray   F\n",
            "\n",
            "[4200 rows x 3 columns]\n"
          ]
        }
      ],
      "metadata": {
        "id": "jmBuBjaIMljH",
        "outputId": "365af696-120c-4fbb-f984-df523c634cdc"
      }
    },
    {
      "cell_type": "markdown",
      "source": [
        "1.6 Загрузите данные из файла `recipes_sample.csv` (__ЛР2__) в таблицу `recipes`. Объедините `recipes` с таблицей `contributors` с сохранением строк в том случае, если информация о человеке отсутствует в JSON-файле. Для скольких человек информация отсутствует? "
      ],
      "metadata": {
        "id": "uQjjdQ2UMljI"
      }
    },
    {
      "cell_type": "code",
      "execution_count": null,
      "source": [
        "recipes = pd.read_csv(\"./data/recipes_sample.csv\", sep=\",\")\n",
        "recipes = recipes.merge(contributors, left_on=\"contributor_id\", right_on=\"id\", how=\"left\")\n",
        "recipes = recipes[pd.isna(recipes[\"id_y\"])] \n",
        "print(len(recipes[\"contributor_id\"].unique()))"
      ],
      "outputs": [
        {
          "output_type": "stream",
          "name": "stdout",
          "text": [
            "4204\n"
          ]
        }
      ],
      "metadata": {
        "id": "NBDQkeMgMljI",
        "outputId": "3870667f-5094-4344-f820-7f6b32936ac2"
      }
    },
    {
      "cell_type": "markdown",
      "source": [
        "### pickle"
      ],
      "metadata": {
        "id": "28Q5AohvMljI"
      }
    },
    {
      "cell_type": "markdown",
      "source": [
        "2.1 На основе файла `contributors_sample.json` создайте словарь следующего вида: \n",
        "```\n",
        "{\n",
        "    должность: [список username людей, занимавших эту должность]\n",
        "}\n",
        "```"
      ],
      "metadata": {
        "id": "3GpFAXCtMljI"
      }
    },
    {
      "cell_type": "code",
      "execution_count": null,
      "source": [
        "with open(\"./data/contributors_sample.json\", \"r\", encoding=\"utf8\") as f:\n",
        "    data = json.load(f)\n",
        "\n",
        "d = {}\n",
        "for i in data:\n",
        "    for job in i[\"jobs\"]:\n",
        "        if job not in d:\n",
        "            d[job] = []\n",
        "        d[job].append(i[\"username\"])\n",
        "\n",
        "\n",
        "print({k: d[k] for k in list(d)[:3]})\n"
      ],
      "outputs": [
        {
          "output_type": "stream",
          "name": "stdout",
          "text": [
            "{'Energy engineer': ['uhebert', 'annmoore', 'garysilva', 'martinezashley', 'sextonsheila', 'pjames', 'smithjonathan', 'wardjames', 'cwheeler', 'ucarlson', 'robert71', 'johnsontheresa', 'amanda41', 'stacey47', 'timothynelson', 'timothynelson', 'rogersmichael', 'melissa94', 'wmcdaniel', 'charles74', 'smithjennifer', 'clintonjones'], 'Engineer, site': ['uhebert', 'nancy12', 'andrea03', 'catherineross', 'wesley32', 'natalieross', 'rossdoris', 'christophersmith', 'dbooker', 'ericarobertson', 'trantricia', 'tpugh', 'jasonvelez', 'samantha36', 'brandidaniels', 'tenglish', 'reyesbrett', 'austin18', 'vjohnson', 'zmejia', 'daniel04', 'cynthia20', 'morgan15', 'avaldez', 'jessica92', 'laurieholloway', 'baileyvictoria'], 'Environmental health practitioner': ['uhebert', 'jonathanchristian', 'xjohnson', 'dsmith', 'james01', 'nancytaylor', 'ztaylor', 'andrewwoods', 'susan54', 'fmaldonado', 'james74', 'bakerjacob', 'stephanie81', 'whitejoseph', 'qolson', 'hknox', 'gonzalesdaniel', 'tranronald', 'jessegreen', 'stephanie69', 'ellisdennis', 'melaniejohnson', 'bradleyalexander', 'chadandrews', 'thomas33', 'john93', 'tanderson', 'dward', 'kathleenbarnett']}\n"
          ]
        }
      ],
      "metadata": {
        "id": "BBQr0iHJMljI",
        "outputId": "0fe0624c-189d-470e-901e-52c155acfbdb"
      }
    },
    {
      "cell_type": "markdown",
      "source": [
        "2.2 Сохраните результаты в файл `job_people.pickle` и в файл `job_people.json` с использованием форматов pickle и JSON соответственно. Сравните объемы получившихся файлов. При сохранении в JSON укажите аргумент `indent`."
      ],
      "metadata": {
        "id": "HX6eGydGMljI"
      }
    },
    {
      "cell_type": "code",
      "execution_count": null,
      "source": [
        "with open(\"./data/job_people.pickle\", \"wb\") as f:\n",
        "    pickle.dump(d, f)\n",
        "\n",
        "with open(\"./data/job_people.json\", \"w\") as f:\n",
        "    json.dump(d, f, indent=1)"
      ],
      "outputs": [],
      "metadata": {
        "id": "G0bdtq7_MljI"
      }
    },
    {
      "cell_type": "code",
      "execution_count": null,
      "source": [
        "import os\n",
        "print(\"pickle :\", os.path.getsize(\"./data/job_people.pickle\"))\n",
        "print(\"json   :\", os.path.getsize(\"./data/job_people.json\"))"
      ],
      "outputs": [
        {
          "output_type": "stream",
          "name": "stdout",
          "text": [
            "pickle : 167910\n",
            "json   : 285159\n"
          ]
        }
      ],
      "metadata": {
        "id": "IEP0L6niMljI",
        "outputId": "8a1f885f-4fce-4374-c364-a4f666e9ee6b"
      }
    },
    {
      "cell_type": "markdown",
      "source": [
        "2.3 Считайте файл `job_people.pickle` и продемонстрируйте, что данные считались корректно. "
      ],
      "metadata": {
        "id": "F6aXiKykMljI"
      }
    },
    {
      "cell_type": "code",
      "execution_count": null,
      "source": [
        "with open(\"./data/job_people.pickle\", \"rb\") as f:\n",
        "    d_pickle = pickle.load(f)\n",
        "\n",
        "print({k: d_pickle[k] for k in list(d_pickle)[:3]})"
      ],
      "outputs": [
        {
          "output_type": "stream",
          "name": "stdout",
          "text": [
            "{'Energy engineer': ['uhebert', 'annmoore', 'garysilva', 'martinezashley', 'sextonsheila', 'pjames', 'smithjonathan', 'wardjames', 'cwheeler', 'ucarlson', 'robert71', 'johnsontheresa', 'amanda41', 'stacey47', 'timothynelson', 'timothynelson', 'rogersmichael', 'melissa94', 'wmcdaniel', 'charles74', 'smithjennifer', 'clintonjones'], 'Engineer, site': ['uhebert', 'nancy12', 'andrea03', 'catherineross', 'wesley32', 'natalieross', 'rossdoris', 'christophersmith', 'dbooker', 'ericarobertson', 'trantricia', 'tpugh', 'jasonvelez', 'samantha36', 'brandidaniels', 'tenglish', 'reyesbrett', 'austin18', 'vjohnson', 'zmejia', 'daniel04', 'cynthia20', 'morgan15', 'avaldez', 'jessica92', 'laurieholloway', 'baileyvictoria'], 'Environmental health practitioner': ['uhebert', 'jonathanchristian', 'xjohnson', 'dsmith', 'james01', 'nancytaylor', 'ztaylor', 'andrewwoods', 'susan54', 'fmaldonado', 'james74', 'bakerjacob', 'stephanie81', 'whitejoseph', 'qolson', 'hknox', 'gonzalesdaniel', 'tranronald', 'jessegreen', 'stephanie69', 'ellisdennis', 'melaniejohnson', 'bradleyalexander', 'chadandrews', 'thomas33', 'john93', 'tanderson', 'dward', 'kathleenbarnett']}\n"
          ]
        }
      ],
      "metadata": {
        "id": "kednurn1MljI",
        "outputId": "68f41c74-e0f8-4c1c-afe4-d36238d51d82"
      }
    },
    {
      "cell_type": "markdown",
      "source": [
        "### XML"
      ],
      "metadata": {
        "id": "bFUswUf1MljI"
      }
    },
    {
      "cell_type": "markdown",
      "source": [
        "3.1 По данным файла `steps_sample.xml` сформируйте словарь с шагами по каждому рецепту вида `{id_рецепта: [\"шаг1\", \"шаг2\"]}`. Сохраните этот словарь в файл `steps_sample.json`"
      ],
      "metadata": {
        "id": "OsL_U2eDMljI"
      }
    },
    {
      "cell_type": "code",
      "execution_count": null,
      "source": [
        "from bs4 import BeautifulSoup\n",
        "\n",
        "with open(\"./data/steps_sample.xml\", \"r\") as f:\n",
        "    data_xml = BeautifulSoup(f)"
      ],
      "outputs": [],
      "metadata": {
        "id": "RK1e_vtVMljI"
      }
    },
    {
      "cell_type": "code",
      "execution_count": null,
      "source": [
        "cook = {}\n",
        "\n",
        "for recipe in data_xml.find_all(\"recipe\"):\n",
        "    id = recipe.find(\"id\")\n",
        "    if id.text not in cook:\n",
        "        cook[id.text] = []\n",
        "    for step in recipe.find_all(\"step\"):\n",
        "        cook[id.text].append(step.text)\n",
        "\n",
        "with open(\"./data/steps_sample.json\", \"w\") as f:\n",
        "    json.dump(cook, f, indent=1)\n"
      ],
      "outputs": [],
      "metadata": {
        "id": "ibJYeK7GMljI"
      }
    },
    {
      "cell_type": "markdown",
      "source": [
        "3.2 По данным файла `steps_sample.xml` сформируйте словарь следующего вида: `кол-во_шагов_в_рецепте: [список_id_рецептов]`"
      ],
      "metadata": {
        "id": "Ysv9gCdMMljJ"
      }
    },
    {
      "cell_type": "code",
      "execution_count": null,
      "source": [
        "step_recipe = {}\n",
        "for recipe in data_xml.find_all(\"recipe\"):\n",
        "    step_count = len(recipe.find_all(\"step\"))\n",
        "    if step_count not in step_recipe:\n",
        "        step_recipe[step_count] = []\n",
        "    step_recipe[step_count].append(recipe.find(\"id\").text)\n",
        "\n",
        "print({k: step_recipe[k] for k in list(step_recipe)[:2]})"
      ],
      "outputs": [],
      "metadata": {
        "id": "XwND9lg9MljJ"
      }
    },
    {
      "cell_type": "markdown",
      "source": [
        "3.3 Получите список рецептов, в этапах выполнения которых есть информация о времени (часы или минуты). Для отбора подходящих рецептов обратите внимание на атрибуты соответствующих тэгов."
      ],
      "metadata": {
        "id": "q1U1NPylMljJ"
      }
    },
    {
      "cell_type": "code",
      "execution_count": null,
      "source": [
        "recipes_with_time_info = []\n",
        "\n",
        "for recipe in data_xml.find_all(\"recipe\"):\n",
        "    for step in recipe.find_all(\"step\"):\n",
        "        \n",
        "        if \"has_minutes\" in step.attrs or \"has_hours\" in step.attrs:\n",
        "            recipes_with_time_info.append(recipe.find(\"id\").text)\n",
        "            break\n",
        "\n",
        "\n",
        "print(recipes_with_time_info[:5])"
      ],
      "outputs": [
        {
          "output_type": "stream",
          "name": "stdout",
          "text": [
            "['44123', '35173', '453467', '306168', '50662']\n"
          ]
        }
      ],
      "metadata": {
        "id": "9HvESAhrMljJ",
        "outputId": "fe4dc503-4648-4d64-bf4e-22764f38976b"
      }
    },
    {
      "cell_type": "markdown",
      "source": [
        "3.4 Загрузите данные из файла `recipes_sample.csv` (__ЛР2__) в таблицу `recipes`. Для строк, которые содержат пропуски в столбце `n_steps`, заполните этот столбец на основе файла  `steps_sample.xml`. Строки, в которых столбец `n_steps` заполнен, оставьте без изменений."
      ],
      "metadata": {
        "id": "qY8yvPYdMljJ"
      }
    },
    {
      "cell_type": "code",
      "execution_count": null,
      "source": [
        "import numpy as np\n",
        "\n",
        "recipes = pd.read_csv(\"./data/recipes_sample.csv\", sep=',')\n",
        "\n",
        "for recipe in data_xml.find_all(\"recipe\"):\n",
        "    id = int(recipe.find(\"id\").text)\n",
        "    if np.isnan(recipes[recipes[\"id\"] == id][\"n_steps\"].values[0]): \n",
        "        recipes.loc[recipes.id == id, \"n_steps\"] = len(\n",
        "            recipe.find_all(\"step\")) \n"
      ],
      "outputs": [],
      "metadata": {
        "id": "DudX5pidMljJ"
      }
    },
    {
      "cell_type": "markdown",
      "source": [
        "3.5 Проверьте, содержит ли столбец `n_steps` пропуски. Если нет, то преобразуйте его к целочисленному типу и сохраните результаты в файл `recipes_sample_with_filled_nsteps.csv`"
      ],
      "metadata": {
        "id": "6TnCSzDsMljJ"
      }
    },
    {
      "cell_type": "code",
      "execution_count": null,
      "source": [
        "import numpy as np\n",
        "if recipes[\"n_steps\"].isna().sum() == 0:\n",
        "    recipes[\"n_steps\"] = recipes[\"n_steps\"].astype(np.int)\n",
        "    recipes.to_csv(\"./data/recipes_sample_with_filled_nsteps.csv\", index=False)"
      ],
      "outputs": [],
      "metadata": {
        "id": "ogctnq52MljJ"
      }
    }
  ],
  "metadata": {
    "kernelspec": {
      "name": "python3",
      "display_name": "Python 3.7.0 64-bit"
    },
    "language_info": {
      "codemirror_mode": {
        "name": "ipython",
        "version": 3
      },
      "file_extension": ".py",
      "mimetype": "text/x-python",
      "name": "python",
      "nbconvert_exporter": "python",
      "pygments_lexer": "ipython3",
      "version": "3.7.0"
    },
    "interpreter": {
      "hash": "aee8b7b246df8f9039afb4144a1f6fd8d2ca17a180786b69acc140d282b71a49"
    },
    "colab": {
      "provenance": []
    }
  },
  "nbformat": 4,
  "nbformat_minor": 0
}